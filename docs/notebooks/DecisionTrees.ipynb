{
 "cells": [
  {
   "cell_type": "markdown",
   "id": "numerical-pocket",
   "metadata": {},
   "source": [
    "# Decision Trees"
   ]
  },
  {
   "cell_type": "markdown",
   "id": "specific-chamber",
   "metadata": {},
   "source": [
    "## Theory\n",
    "\n",
    "Decision trees are one of the simpler machine learning methods. After training, it looks like a series of if-then statements arranged into a tree.\n",
    "\n",
    "There are several algorithms to train a decision tree:\n",
    "- CART: Classification and regression trees\n",
    "- ID3\n",
    "\n",
    "### CART\n",
    "This algorithm chooses the best variable to divide up the data. 2 measures for measuring how mixed a set is:\n",
    "- Gini impurity\n",
    "- Entropy"
   ]
  },
  {
   "cell_type": "markdown",
   "id": "bound-livestock",
   "metadata": {},
   "source": [
    "## Practice\n",
    "\n",
    "Train a decision tree model with sklearn."
   ]
  },
  {
   "cell_type": "code",
   "execution_count": 2,
   "id": "relevant-sustainability",
   "metadata": {},
   "outputs": [
    {
     "data": {
      "text/plain": [
       "DecisionTreeClassifier(max_depth=2)"
      ]
     },
     "execution_count": 2,
     "metadata": {},
     "output_type": "execute_result"
    }
   ],
   "source": [
    "from sklearn.datasets import load_iris\n",
    "from sklearn.tree import DecisionTreeClassifier\n",
    "\n",
    "iris = load_iris()\n",
    "X = iris.data[:, 2:]\n",
    "y = iris.target\n",
    "\n",
    "tree_clf = DecisionTreeClassifier(max_depth=2)\n",
    "tree_clf.fit(X, y)"
   ]
  },
  {
   "cell_type": "code",
   "execution_count": 4,
   "id": "ongoing-reset",
   "metadata": {},
   "outputs": [],
   "source": [
    "from sklearn.tree import export_graphviz\n",
    "\n",
    "export_graphviz(\n",
    "        tree_clf,\n",
    "        out_file=(\"iris_tree.dot\"),\n",
    "        feature_names=iris.feature_names[2:],\n",
    "        class_names=iris.target_names,\n",
    "        rounded=True,\n",
    "        filled=True\n",
    "    )"
   ]
  },
  {
   "cell_type": "code",
   "execution_count": 10,
   "id": "rapid-tender",
   "metadata": {},
   "outputs": [],
   "source": [
    "! dot -Tpng artifacts/iris_tree.dot -o artifacts/iris_tree.png"
   ]
  },
  {
   "cell_type": "markdown",
   "id": "disturbed-buyer",
   "metadata": {},
   "source": [
    "![decision tree viz](artifacts/iris_tree.png)"
   ]
  },
  {
   "cell_type": "markdown",
   "id": "lucky-dublin",
   "metadata": {},
   "source": [
    "## References\n",
    "- [Hands On Machine Learning, Chapter 6. Decision Trees](https://learning.oreilly.com/library/view/hands-on-machine-learning/9781492032632/ch06.html)\n",
    "- [Programming Collective Intelligence, Chapter 7. Modeling with Decision Trees](https://learning.oreilly.com/library/view/programming-collective-intelligence/9780596529321/ch07.html)"
   ]
  },
  {
   "cell_type": "code",
   "execution_count": null,
   "id": "metric-binding",
   "metadata": {},
   "outputs": [],
   "source": []
  }
 ],
 "metadata": {
  "kernelspec": {
   "display_name": "Python [conda env:dev] *",
   "language": "python",
   "name": "conda-env-dev-py"
  },
  "language_info": {
   "codemirror_mode": {
    "name": "ipython",
    "version": 3
   },
   "file_extension": ".py",
   "mimetype": "text/x-python",
   "name": "python",
   "nbconvert_exporter": "python",
   "pygments_lexer": "ipython3",
   "version": "3.7.7"
  }
 },
 "nbformat": 4,
 "nbformat_minor": 5
}
